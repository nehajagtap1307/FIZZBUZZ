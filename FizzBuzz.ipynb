{
  "nbformat": 4,
  "nbformat_minor": 0,
  "metadata": {
    "colab": {
      "provenance": []
    },
    "kernelspec": {
      "name": "python3",
      "display_name": "Python 3"
    },
    "language_info": {
      "name": "python"
    }
  },
  "cells": [
    {
      "cell_type": "code",
      "execution_count": 4,
      "metadata": {
        "colab": {
          "base_uri": "https://localhost:8080/"
        },
        "id": "cheVT1T_SRIl",
        "outputId": "ee6cb43e-7f03-4680-bade-c4fb7154a2f2"
      },
      "outputs": [
        {
          "output_type": "stream",
          "name": "stdout",
          "text": [
            "1\n",
            "2\n",
            "3 = Fizz\n",
            "4\n",
            "5 = Buzz\n",
            "6 = Fizz\n",
            "7\n",
            "8\n",
            "9 = Fizz\n",
            "10 = Buzz\n",
            "11\n",
            "12 = Fizz\n",
            "13\n",
            "14\n",
            "15 = FizzBuzz\n",
            "16\n",
            "17\n",
            "18 = Fizz\n",
            "19\n",
            "20 = Buzz\n",
            "21 = Fizz\n",
            "22\n",
            "23\n",
            "24 = Fizz\n",
            "25 = Buzz\n",
            "26\n",
            "27 = Fizz\n",
            "28\n",
            "29\n",
            "30 = FizzBuzz\n",
            "31\n",
            "32\n",
            "33 = Fizz\n",
            "34\n",
            "35 = Buzz\n",
            "36 = Fizz\n",
            "37\n",
            "38\n",
            "39 = Fizz\n",
            "40 = Buzz\n",
            "41\n",
            "42 = Fizz\n",
            "43\n",
            "44\n",
            "45 = FizzBuzz\n",
            "46\n",
            "47\n",
            "48 = Fizz\n",
            "49\n"
          ]
        }
      ],
      "source": [
        "#Code for FIZZBUZZ Game\n",
        "def fizzBuzz(r):\n",
        "  for i in range(1,r):\n",
        "    if(i%3==0 and i%5==0):\n",
        "      print(str(i)+\" = FizzBuzz\")\n",
        "    else:\n",
        "      if(i%3==0):\n",
        "        print(str(i)+\" = Fizz\")\n",
        "      else:\n",
        "        if(i%5==0):\n",
        "          print(str(i)+\" = Buzz\")\n",
        "        else:\n",
        "          print(str(i))\n",
        "fizzBuzz(50)\n"
      ]
    }
  ]
}